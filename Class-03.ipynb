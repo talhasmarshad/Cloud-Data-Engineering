{
 "cells": [
  {
   "cell_type": "code",
   "execution_count": 2,
   "id": "c6c0f2d8",
   "metadata": {},
   "outputs": [
    {
     "name": "stdout",
     "output_type": "stream",
     "text": [
      "<class 'float'>\n"
     ]
    }
   ],
   "source": [
    "age_input = input(\"Enter your age: \")\n",
    "if age_input.strip() == \"\":\n",
    "    print(\"No input provided.\")\n",
    "    print(\"Type: NoneType\")\n",
    "else:\n",
    "    age = float(age_input)\n",
    "    print(type(age))\n"
   ]
  },
  {
   "cell_type": "code",
   "execution_count": 6,
   "id": "2e91f5b0",
   "metadata": {},
   "outputs": [
    {
     "name": "stdout",
     "output_type": "stream",
     "text": [
      "<class 'int'>\n"
     ]
    }
   ],
   "source": [
    "age = int(input(\"Age: \"))  # This line is not needed anymore, as we are now using float\n",
    "print(type(age))  # This will print the type of age, which is now float"
   ]
  },
  {
   "cell_type": "code",
   "execution_count": 9,
   "id": "1018734f",
   "metadata": {},
   "outputs": [],
   "source": [
    "eid = True  # Example value, can be True or False"
   ]
  },
  {
   "cell_type": "code",
   "execution_count": 11,
   "id": "706818ac",
   "metadata": {},
   "outputs": [
    {
     "name": "stdout",
     "output_type": "stream",
     "text": [
      "Tomorrow is Holiday\n"
     ]
    }
   ],
   "source": [
    "if eid:\n",
    "    print(\"Tomorrow is Holiday\")\n",
    "else:\n",
    "    print(\"Tomorrow is Working Day\")"
   ]
  },
  {
   "cell_type": "code",
   "execution_count": 7,
   "id": "2dfa8df6",
   "metadata": {},
   "outputs": [
    {
     "name": "stdout",
     "output_type": "stream",
     "text": [
      "You have failed the exam\n"
     ]
    }
   ],
   "source": [
    "Marks = float(input(\"Enter your marks: \"))\n",
    "#Marks = int(Marks)  # Convert input to float for comparison\n",
    "if Marks >= 90:\n",
    "    print(\"You have passed the with A\")\n",
    "elif Marks >= 80:\n",
    "    print(\"You have passed the with B\")\n",
    "else:\n",
    "    print(\"You have failed the exam\")"
   ]
  },
  {
   "cell_type": "markdown",
   "id": "8ddffc20",
   "metadata": {},
   "source": [
    "Nested if-else"
   ]
  },
  {
   "cell_type": "code",
   "execution_count": 12,
   "id": "c0471c0b",
   "metadata": {},
   "outputs": [
    {
     "name": "stdout",
     "output_type": "stream",
     "text": [
      "Shop is open\n",
      "Basmati rice is available\n"
     ]
    }
   ],
   "source": [
    "shop_open = True\n",
    "basmati_rice = True\n",
    "\n",
    "if shop_open:\n",
    "    print(\"Shop is open\")\n",
    "    if basmati_rice:\n",
    "        print(\"Basmati rice is available\")\n",
    "    else:\n",
    "        print(\"Basmati rice is not available\")  \n",
    "else:\n",
    "    print(\"Shop is closed\")"
   ]
  },
  {
   "cell_type": "code",
   "execution_count": 14,
   "id": "78a45bbe",
   "metadata": {},
   "outputs": [
    {
     "name": "stdout",
     "output_type": "stream",
     "text": [
      "not eligible\n"
     ]
    }
   ],
   "source": [
    "age = int(input(\"Enter your age:\"))\n",
    "\n",
    "status = 'eligible' if age >= 18 else 'not eligible'\n",
    "\n",
    "print(status)"
   ]
  },
  {
   "cell_type": "code",
   "execution_count": 18,
   "id": "65863305",
   "metadata": {},
   "outputs": [
    {
     "name": "stdout",
     "output_type": "stream",
     "text": [
      "Number is not divisible\n"
     ]
    }
   ],
   "source": [
    "num = int(input(\"Enter a number: \"))\n",
    "# Check if the number is even or odd\n",
    "if num % 5==0:\n",
    " print(\"Number is divisible\")\n",
    "else:\n",
    " print(\"Number is not divisible\")"
   ]
  },
  {
   "cell_type": "code",
   "execution_count": 24,
   "id": "12a01b71",
   "metadata": {},
   "outputs": [
    {
     "name": "stdout",
     "output_type": "stream",
     "text": [
      "<class 'bool'>\n"
     ]
    }
   ],
   "source": [
    "Kam = not False\n",
    "print(type(Kam))  # This will print the boolean value of Kam, which is True"
   ]
  },
  {
   "cell_type": "code",
   "execution_count": 9,
   "id": "caef6984",
   "metadata": {},
   "outputs": [
    {
     "name": "stdout",
     "output_type": "stream",
     "text": [
      "You have passed the with B\n"
     ]
    }
   ],
   "source": [
    "Marks = float(input(\"Enter your marks: \"))\n",
    "#Marks = int(Marks)  # Convert input to float for comparison\n",
    "if Marks >= 90 and Marks <= 100:\n",
    "    print(f\"You have passed the with A\")\n",
    "elif Marks >= 0 and Marks < 90:\n",
    "    print(f\"You have passed the with B\")\n",
    "elif Marks < 0 or Marks > 100:\n",
    "    print(f\"Invalid marks entered\")\n",
    "else:\n",
    "    print(f\"You have failed\")\n"
   ]
  },
  {
   "cell_type": "code",
   "execution_count": null,
   "id": "a2631b93",
   "metadata": {},
   "outputs": [
    {
     "name": "stdout",
     "output_type": "stream",
     "text": [
      "2\n",
      "yaasir\n",
      "YAASIR\n",
      "aasi\n"
     ]
    }
   ],
   "source": [
    "# Example using .count()\n",
    "print(\"Yaasir\".count(\"a\"))  # Counts occurrences of 'a'\n",
    "\n",
    "# Example using .lower()\n",
    "print(\"Yaasir\".lower())     # Converts to lowercase\n",
    "print(\"HELLO\".lower())      # Converts to lowercase: hello\n",
    "print(\"Python123\".lower())  # Converts to lowercase: python123\n",
    "print(\"TeSt\".lower())       # Converts to lowercase: test\n",
    "\n",
    "# Example using .upper()\n",
    "print(\"Yaasir\".upper())     # Converts to uppercase\n",
    "\n",
    "# Example using slicing\n",
    "print(\"Yaasir\"[1:5])        # Slices from index 1 to 4# This is a placeholder for the code that was not provided in the original request."
   ]
  },
  {
   "cell_type": "markdown",
   "id": "3de6ed56",
   "metadata": {},
   "source": [
    "SLicing : Slicing always happen from first before n-1 / Positive Slicing"
   ]
  },
  {
   "cell_type": "code",
   "execution_count": 39,
   "id": "36eefbf4",
   "metadata": {},
   "outputs": [
    {
     "name": "stdout",
     "output_type": "stream",
     "text": [
      "qasim example\n",
      "qasim example\n",
      "QASIM EXAMPLE\n",
      "Qasim example\n",
      "Qasim Example\n",
      "2\n",
      "6\n",
      "Ali Example\n",
      "True\n",
      "True\n",
      "['Qasim', 'Example']\n",
      "Qasim\n"
     ]
    }
   ],
   "source": [
    "str = \"Qasim Example\"\n",
    "\n",
    "# .casefold() - returns a case-insensitive version of the string\n",
    "print(str.casefold())  # Output: qasim example\n",
    "\n",
    "# .lower() - converts all characters to lowercase\n",
    "print(str.lower())  # Output: qasim example\n",
    "\n",
    "# .upper() - converts all characters to uppercase\n",
    "print(str.upper())  # Output: QASIM EXAMPLE\n",
    "\n",
    "# .capitalize() - capitalizes the first character\n",
    "print(str.capitalize())  # Output: Qasim example\n",
    "\n",
    "# .title() - capitalizes the first letter of each word\n",
    "print(str.title())  # Output: Qasim Example\n",
    "\n",
    "# .count(substring) - counts occurrences of substring\n",
    "print(str.count(\"a\"))  # Output: 2\n",
    "\n",
    "# .find(substring) - returns the lowest index of substring\n",
    "print(str.find(\"Example\"))  # Output: 6\n",
    "\n",
    "# .replace(old, new) - replaces occurrences of old with new\n",
    "print(str.replace(\"Qasim\", \"Ali\"))  # Output: Ali Example\n",
    "\n",
    "# .startswith(prefix) - checks if string starts with prefix\n",
    "print(str.startswith(\"Qasim\"))  # Output: True\n",
    "\n",
    "# .endswith(suffix) - checks if string ends with suffix\n",
    "print(str.endswith(\"Example\"))  # Output: True\n",
    "\n",
    "# .split(separator) - splits string into a list\n",
    "print(str.split(\" \"))  # Output: ['Qasim', 'Example']\n",
    "\n",
    "# .strip() - removes leading and trailing whitespace\n",
    "print(\"  Qasim  \".strip())  # Output: Qasim"
   ]
  },
  {
   "cell_type": "code",
   "execution_count": 40,
   "id": "53ccbfe2",
   "metadata": {},
   "outputs": [
    {
     "name": "stdout",
     "output_type": "stream",
     "text": [
      "Pyth\n",
      "ytho\n",
      "Pyt\n",
      "thon\n"
     ]
    }
   ],
   "source": [
    "text = \"Python\"\n",
    "print(text[0:4])  # Output: Pyth (from index 0 to 3)\n",
    "print(text[1:5])  # Output: ytho (from index 1 to 4)\n",
    "print(text[:3])   # Output: Pyt (from start to index 2)\n",
    "print(text[2:])   # Output: thon (from index 2 to end)"
   ]
  },
  {
   "cell_type": "code",
   "execution_count": 35,
   "id": "8691c098",
   "metadata": {},
   "outputs": [
    {
     "name": "stdout",
     "output_type": "stream",
     "text": [
      "Qas\n",
      "asim\n",
      "Qasim\n",
      "Qasi\n",
      "si\n",
      "Qsm\n",
      "ai\n"
     ]
    }
   ],
   "source": [
    "# Slicing with different start and end positions using str\n",
    "print(str[0:3])    # Output: Qas\n",
    "print(str[1:5])    # Output: asim\n",
    "print(str[0:])     # Output: Qasim (from start to end)\n",
    "print(str[:4])     # Output: Qasi (from start to index 3)\n",
    "print(str[2:4])    # Output: si\n",
    "print(str[::2])    # Output: Qsm (every 2nd character)\n",
    "print(str[1:5:2])  # Output: ai (start at 1, end at 4, step 2)\n"
   ]
  }
 ],
 "metadata": {
  "kernelspec": {
   "display_name": "Python 3",
   "language": "python",
   "name": "python3"
  },
  "language_info": {
   "codemirror_mode": {
    "name": "ipython",
    "version": 3
   },
   "file_extension": ".py",
   "mimetype": "text/x-python",
   "name": "python",
   "nbconvert_exporter": "python",
   "pygments_lexer": "ipython3",
   "version": "3.13.5"
  }
 },
 "nbformat": 4,
 "nbformat_minor": 5
}
