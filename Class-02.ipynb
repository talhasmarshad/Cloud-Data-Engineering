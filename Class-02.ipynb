{
 "cells": [
  {
   "cell_type": "code",
   "execution_count": 47,
   "id": "70ff80e4",
   "metadata": {},
   "outputs": [
    {
     "name": "stdout",
     "output_type": "stream",
     "text": [
      "hellow\n"
     ]
    }
   ],
   "source": [
    "print(\"hellow\") #This is a code cell"
   ]
  },
  {
   "cell_type": "markdown",
   "id": "8d775b27",
   "metadata": {},
   "source": [
    "SMIT Class One VS Code Shortcut "
   ]
  },
  {
   "cell_type": "code",
   "execution_count": 48,
   "id": "7bb668a4",
   "metadata": {},
   "outputs": [
    {
     "name": "stdout",
     "output_type": "stream",
     "text": [
      "Talha\n"
     ]
    }
   ],
   "source": [
    "# Use the existing variable 'mt' which is already defined as 'Qasim Hassan'\n",
    "mt = \"Talha\"\n",
    "print(mt)"
   ]
  },
  {
   "cell_type": "code",
   "execution_count": 49,
   "id": "c5b123a1",
   "metadata": {},
   "outputs": [
    {
     "name": "stdout",
     "output_type": "stream",
     "text": [
      "<class 'str'>\n",
      "<class 'int'>\n",
      "<class 'bool'>\n",
      "<class 'float'>\n"
     ]
    }
   ],
   "source": [
    "name1 = \"Alice\"\n",
    "age1 = 30\n",
    "is_present = True\n",
    "weight1 = 65.5\n",
    "\n",
    "print(type(name))      # <class 'str'>\n",
    "print(type(age))       # <class 'int'>\n",
    "print(type(is_present))# <class 'bool'>\n",
    "print(type(weight))    # <class 'float'>\n",
    "\n"
   ]
  },
  {
   "cell_type": "markdown",
   "id": "33d45f10",
   "metadata": {},
   "source": [
    "# Heading 1\n",
    "\n",
    "## Heading 2\n",
    "\n",
    "### Heading 3\n",
    "\n",
    "#### Heading 4\n",
    "\n",
    "##### Heading 5\n",
    "\n",
    "###### Heading 6\n",
    "\n",
    "You can create headings of different types and heights in Markdown by using one to six `#` symbols before your heading text. More `#` symbols create smaller headings."
   ]
  },
  {
   "cell_type": "code",
   "execution_count": 50,
   "id": "8da9cf67",
   "metadata": {},
   "outputs": [
    {
     "data": {
      "text/plain": [
       "3"
      ]
     },
     "execution_count": 50,
     "metadata": {},
     "output_type": "execute_result"
    }
   ],
   "source": [
    "7//2 #flooring division\n"
   ]
  },
  {
   "cell_type": "code",
   "execution_count": 51,
   "id": "a1543e43",
   "metadata": {},
   "outputs": [
    {
     "data": {
      "text/plain": [
       "2"
      ]
     },
     "execution_count": 51,
     "metadata": {},
     "output_type": "execute_result"
    }
   ],
   "source": [
    "\n",
    "8%3 #modulus operation reminder"
   ]
  },
  {
   "cell_type": "code",
   "execution_count": 53,
   "id": "b472acf3",
   "metadata": {},
   "outputs": [],
   "source": [
    "# PENDAS = Parentheses, Exponents, Multiplication, Division, Addition, Subtraction"
   ]
  },
  {
   "cell_type": "code",
   "execution_count": 55,
   "id": "6b615107",
   "metadata": {},
   "outputs": [
    {
     "name": "stdout",
     "output_type": "stream",
     "text": [
      "-1.1\n"
     ]
    }
   ],
   "source": [
    "result = (2-3) - (3-1) / 4/5\n",
    "print(result)"
   ]
  },
  {
   "cell_type": "code",
   "execution_count": null,
   "id": "1d733cb7",
   "metadata": {},
   "outputs": [],
   "source": [
    "-=\n",
    "/=\n",
    "*=\n",
    "%="
   ]
  },
  {
   "cell_type": "code",
   "execution_count": 67,
   "id": "c99d218a",
   "metadata": {},
   "outputs": [],
   "source": [
    "num1 = 5    \n",
    "num2 = 10"
   ]
  },
  {
   "cell_type": "code",
   "execution_count": 63,
   "id": "b3153fdb",
   "metadata": {},
   "outputs": [],
   "source": [
    "num1 += 2  # num1 = num1 + 2"
   ]
  },
  {
   "cell_type": "code",
   "execution_count": 68,
   "id": "dc8f9dc6",
   "metadata": {},
   "outputs": [
    {
     "name": "stdout",
     "output_type": "stream",
     "text": [
      "7\n"
     ]
    }
   ],
   "source": [
    "num1 += 2\n",
    "print(num1)"
   ]
  },
  {
   "cell_type": "markdown",
   "id": "3f509e1a",
   "metadata": {},
   "source": [
    " <>\n",
    " >\n",
    " >=\n",
    " <=\n",
    " <> or !=\n",
    "\n"
   ]
  },
  {
   "cell_type": "markdown",
   "id": "8bc9e906",
   "metadata": {},
   "source": [
    "Operator"
   ]
  },
  {
   "cell_type": "code",
   "execution_count": 69,
   "id": "d011e1ea",
   "metadata": {},
   "outputs": [
    {
     "data": {
      "text/plain": [
       "False"
      ]
     },
     "execution_count": 69,
     "metadata": {},
     "output_type": "execute_result"
    }
   ],
   "source": [
    "1 != 1"
   ]
  },
  {
   "cell_type": "code",
   "execution_count": null,
   "id": "71d9bac4",
   "metadata": {},
   "outputs": [
    {
     "name": "stdout",
     "output_type": "stream",
     "text": [
      "qasim Hassan\n"
     ]
    }
   ],
   "source": [
    "name1 = \"qasim\"\n",
    "name2 = \"Hassan\"\n",
    "print(name1 + \" \" + name2) # operator"
   ]
  },
  {
   "cell_type": "code",
   "execution_count": 82,
   "id": "7d5acb99",
   "metadata": {},
   "outputs": [
    {
     "name": "stdout",
     "output_type": "stream",
     "text": [
      "qasim Hassan\n"
     ]
    }
   ],
   "source": [
    "full_name = f\"{name1} {name2}\"\n",
    "print(full_name)  # Using f-string for formatting"
   ]
  },
  {
   "cell_type": "code",
   "execution_count": 84,
   "id": "21bbbd8b",
   "metadata": {},
   "outputs": [
    {
     "name": "stdout",
     "output_type": "stream",
     "text": [
      "qasim Hassan\n"
     ]
    }
   ],
   "source": [
    "full_name = \"{0} {1}\".format(name1, name2)\n",
    "print(full_name)  # Using format method for string formatting"
   ]
  },
  {
   "cell_type": "code",
   "execution_count": 85,
   "id": "4f1281cd",
   "metadata": {},
   "outputs": [
    {
     "name": "stdout",
     "output_type": "stream",
     "text": [
      "Talha Arshad\n"
     ]
    }
   ],
   "source": [
    "full_name = \"{0} {1}\".format(\"Talha\", \"Arshad\")\n",
    "print(full_name)  # Using format method for string formatting"
   ]
  }
 ],
 "metadata": {
  "kernelspec": {
   "display_name": "Python 3",
   "language": "python",
   "name": "python3"
  },
  "language_info": {
   "codemirror_mode": {
    "name": "ipython",
    "version": 3
   },
   "file_extension": ".py",
   "mimetype": "text/x-python",
   "name": "python",
   "nbconvert_exporter": "python",
   "pygments_lexer": "ipython3",
   "version": "3.13.5"
  }
 },
 "nbformat": 4,
 "nbformat_minor": 5
}
