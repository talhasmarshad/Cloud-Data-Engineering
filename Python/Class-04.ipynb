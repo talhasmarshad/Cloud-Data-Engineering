{
 "cells": [
  {
   "cell_type": "code",
   "execution_count": 1,
   "id": "ba5bdd25",
   "metadata": {},
   "outputs": [
    {
     "data": {
      "text/plain": [
       "2002680590096"
      ]
     },
     "execution_count": 1,
     "metadata": {},
     "output_type": "execute_result"
    }
   ],
   "source": [
    "city_0 = \"Karachi\"\n",
    "city_1 = \"Lahore\"\n",
    "city_2 = \"Islamabad\"    \n",
    "city_3 = \"Faisalabad\"\n",
    "city_4 = \"Multan\"\n",
    "city_5 = \"Hyderabad\"\n",
    "city_6 = \"Gujranwala\"\n",
    "city_7 = \"Peshawar\"\n",
    "\n",
    "id(city_0)"
   ]
  },
  {
   "cell_type": "markdown",
   "id": "326897b6",
   "metadata": {},
   "source": [
    "Manage more than 200 is difficult to manage and its using too much memory\n",
    "if use variable approach\n",
    "So need list"
   ]
  },
  {
   "cell_type": "code",
   "execution_count": 4,
   "id": "93c876f2",
   "metadata": {},
   "outputs": [],
   "source": [
    "cities = [\"Karachi\", \"Lahore\", \"Islamabad\", \"Faisalabad\", \"Multan\", \"Hyderabad\", \"Gujranwala\", \"Peshawar\"]"
   ]
  },
  {
   "cell_type": "markdown",
   "id": "51c4885f",
   "metadata": {},
   "source": [
    "String Ky . walay try karna hai\""
   ]
  },
  {
   "cell_type": "code",
   "execution_count": 6,
   "id": "29bea4fc",
   "metadata": {},
   "outputs": [
    {
     "data": {
      "text/plain": [
       "(list, 2002688240960)"
      ]
     },
     "execution_count": 6,
     "metadata": {},
     "output_type": "execute_result"
    }
   ],
   "source": [
    "type(cities), id(cities)"
   ]
  },
  {
   "cell_type": "code",
   "execution_count": 9,
   "id": "fdf26862",
   "metadata": {},
   "outputs": [
    {
     "name": "stdout",
     "output_type": "stream",
     "text": [
      "['Karachi', 'Lahore', 'Islamabad', 'Faisalabad', 'Multan', 'Hyderabad', 'Gujranwala', 'Peshawar', 'Quetta', 'Quetta']\n"
     ]
    }
   ],
   "source": [
    "cities.append(\"Quetta\") \n",
    "print(cities)"
   ]
  },
  {
   "cell_type": "code",
   "execution_count": 11,
   "id": "39a62914",
   "metadata": {},
   "outputs": [
    {
     "data": {
      "text/plain": [
       "1"
      ]
     },
     "execution_count": 11,
     "metadata": {},
     "output_type": "execute_result"
    }
   ],
   "source": [
    "cities.count(\"Karachi\")"
   ]
  },
  {
   "cell_type": "code",
   "execution_count": 13,
   "id": "4e619257",
   "metadata": {},
   "outputs": [
    {
     "name": "stdout",
     "output_type": "stream",
     "text": [
      "['Quetta', 'Quetta', 'Karachi', 'Lahore', 'Islamabad', 'Faisalabad', 'Multan', 'Hyderabad', 'Gujranwala', 'Peshawar', 'Quetta', 'Quetta']\n"
     ]
    }
   ],
   "source": [
    "cities.insert(0, \"Quetta\")\n",
    "print(cities)"
   ]
  },
  {
   "cell_type": "code",
   "execution_count": null,
   "id": "a06917c4",
   "metadata": {},
   "outputs": [
    {
     "data": {
      "text/plain": [
       "'Peshawar'"
      ]
     },
     "execution_count": 16,
     "metadata": {},
     "output_type": "execute_result"
    }
   ],
   "source": [
    "cities.pop()#remove last"
   ]
  },
  {
   "cell_type": "code",
   "execution_count": 20,
   "id": "83dfa057",
   "metadata": {},
   "outputs": [
    {
     "name": "stdout",
     "output_type": "stream",
     "text": [
      "['Quetta', 'Lahore', 'Islamabad', 'Faisalabad', 'Multan', 'Hyderabad', 'Gujranwala']\n"
     ]
    }
   ],
   "source": [
    "cities.remove(\"Quetta\")#remove specific\n",
    "print(cities)"
   ]
  },
  {
   "cell_type": "code",
   "execution_count": null,
   "id": "e4e2115c",
   "metadata": {},
   "outputs": [
    {
     "name": "stdout",
     "output_type": "stream",
     "text": [
      "['Quetta', 'Lahore', 'Islamabad', 'Faisalabad', 'Multan', 'Hyderabad', 'Gujranwala']\n"
     ]
    }
   ],
   "source": [
    "cities.reverse\n"
   ]
  },
  {
   "cell_type": "code",
   "execution_count": 36,
   "id": "40614a30",
   "metadata": {},
   "outputs": [
    {
     "name": "stdout",
     "output_type": "stream",
     "text": [
      "['Faisalabad', 'Gujranwala', 'Hyderabad', 'Islamabad', 'Lahore', 'Multan', 'Quetta']\n"
     ]
    }
   ],
   "source": [
    "cities.sort()#sort in ascending order\n",
    "print(cities)"
   ]
  },
  {
   "cell_type": "markdown",
   "id": "306ef4db",
   "metadata": {},
   "source": [
    "Shallow Copy / Deep Copy"
   ]
  },
  {
   "cell_type": "code",
   "execution_count": 37,
   "id": "c7ff5e75",
   "metadata": {},
   "outputs": [
    {
     "name": "stdout",
     "output_type": "stream",
     "text": [
      "['Faisalabad', 'Gujranwala', 'Hyderabad', 'Islamabad', 'Lahore', 'Multan', 'Quetta']\n"
     ]
    }
   ],
   "source": [
    "print(cities)"
   ]
  },
  {
   "cell_type": "code",
   "execution_count": 38,
   "id": "a7003638",
   "metadata": {},
   "outputs": [
    {
     "name": "stdout",
     "output_type": "stream",
     "text": [
      "['Faisalabad', 'Gujranwala', 'Hyderabad', 'Islamabad', 'Lahore', 'Multan', 'Quetta']\n"
     ]
    }
   ],
   "source": [
    "cities_new = cities.copy() # Shallow Copy\n",
    "print(cities_new)"
   ]
  },
  {
   "cell_type": "code",
   "execution_count": 42,
   "id": "cfae878c",
   "metadata": {},
   "outputs": [
    {
     "name": "stdout",
     "output_type": "stream",
     "text": [
      "['Faisalabad', 'Gujranwala', 'Hyderabad', 'Islamabad', 'Karachi', 'Karachi', 'Lahore', 'Multan', 'Quetta']\n"
     ]
    }
   ],
   "source": [
    "#cities_new.append(\"Karachi\") # Adding a new city to the new list\n",
    "print(cities_new)\n",
    "cities_new.sort()"
   ]
  },
  {
   "cell_type": "code",
   "execution_count": null,
   "id": "4dabbafc",
   "metadata": {},
   "outputs": [
    {
     "name": "stdout",
     "output_type": "stream",
     "text": [
      "['Faisalabad', 'Gujranwala', 'Hyderabad', 'Islamabad', 'Karachi', 'Karachi', 'Lahore', 'Multan', 'Quetta']\n",
      "['Faisalabad', 'Gujranwala', 'Hyderabad', 'Islamabad', 'Karachi', 'Karachi', 'Lahore', 'Multan', 'Quetta']\n"
     ]
    }
   ],
   "source": [
    "import copy\n",
    "cities_deep = copy.deepcopy(cities_new) # Deep Copy\n",
    "print(cities_deep)\n",
    "print(cities_new)\n"
   ]
  },
  {
   "cell_type": "code",
   "execution_count": 59,
   "id": "83367a5c",
   "metadata": {},
   "outputs": [
    {
     "name": "stdout",
     "output_type": "stream",
     "text": [
      "['Faisalabad', 'Gujranwala', 'Hyderabad', 'Islamabad', 'Karachi', 'Lahore', 'Multan', 'Quetta']\n",
      "['Faisalabad', 'Gujranwala', 'Hyderabad', 'Islamabad', 'Karachi', 'Karachi', 'Lahore', 'Multan', 'Quetta']\n"
     ]
    }
   ],
   "source": [
    "cities_deep.remove(\"Karachi\")  # Removing Karachi from the deep copy\n",
    "print(cities_deep)\n",
    "print(cities_new)  # Original list remains unchanged"
   ]
  },
  {
   "cell_type": "code",
   "execution_count": null,
   "id": "35107fdd",
   "metadata": {},
   "outputs": [],
   "source": [
    "cities_new.deepcopy() # Deep Copy\n",
    "print(cities_new)\n"
   ]
  },
  {
   "cell_type": "markdown",
   "id": "f188c494",
   "metadata": {},
   "source": [
    "SLicing"
   ]
  },
  {
   "cell_type": "code",
   "execution_count": 61,
   "id": "04caf7e2",
   "metadata": {},
   "outputs": [
    {
     "data": {
      "text/plain": [
       "['Faisalabad', 'Gujranwala', 'Hyderabad', 'Islamabad', 'Lahore']"
      ]
     },
     "execution_count": 61,
     "metadata": {},
     "output_type": "execute_result"
    }
   ],
   "source": [
    "cities[:5]  # Slicing to get the first 5 cities\n"
   ]
  },
  {
   "cell_type": "code",
   "execution_count": 62,
   "id": "a4b167ae",
   "metadata": {},
   "outputs": [
    {
     "name": "stdout",
     "output_type": "stream",
     "text": [
      "Original list: ['Faisalabad', 'Gujranwala', 'Hyderabad', 'Islamabad', 'Lahore', 'Multan', 'Quetta']\n",
      "Shallow copied list: ['Faisalabad', 'Gujranwala', 'Hyderabad', 'Islamabad', 'Lahore', 'Multan', 'Quetta', 'Sialkot']\n",
      "Original list: ['Faisalabad', 'Gujranwala', 'Hyderabad', 'Islamabad', 'Lahore', 'Multan', 'Quetta']\n",
      "Deep copied list: ['Faisalabad', 'Gujranwala', 'Hyderabad', 'Islamabad', 'Lahore', 'Multan', 'Quetta', 'Sargodha']\n"
     ]
    }
   ],
   "source": [
    "import copy\n",
    "\n",
    "# Shallow copy example\n",
    "shallow_copied_list = cities.copy()\n",
    "shallow_copied_list.append(\"Sialkot\")\n",
    "print(\"Original list:\", cities)\n",
    "print(\"Shallow copied list:\", shallow_copied_list)\n",
    "\n",
    "# Deep copy example\n",
    "deep_copied_list = copy.deepcopy(cities)\n",
    "deep_copied_list.append(\"Sargodha\")\n",
    "print(\"Original list:\", cities)\n",
    "print(\"Deep copied list:\", deep_copied_list)"
   ]
  },
  {
   "cell_type": "markdown",
   "id": "381b00b1",
   "metadata": {},
   "source": [
    "SLicing and reversing"
   ]
  },
  {
   "cell_type": "code",
   "execution_count": 66,
   "id": "2c0ee36a",
   "metadata": {},
   "outputs": [
    {
     "data": {
      "text/plain": [
       "['Quetta',\n",
       " 'Multan',\n",
       " 'Lahore',\n",
       " 'Islamabad',\n",
       " 'Hyderabad',\n",
       " 'Gujranwala',\n",
       " 'Faisalabad']"
      ]
     },
     "execution_count": 66,
     "metadata": {},
     "output_type": "execute_result"
    }
   ],
   "source": [
    "cities[::-1]  # Slicing and reversing"
   ]
  },
  {
   "cell_type": "code",
   "execution_count": 68,
   "id": "6bb72467",
   "metadata": {},
   "outputs": [],
   "source": [
    "cities_new = cities"
   ]
  },
  {
   "cell_type": "code",
   "execution_count": 70,
   "id": "c2f4a311",
   "metadata": {},
   "outputs": [
    {
     "name": "stdout",
     "output_type": "stream",
     "text": [
      "['Faisalabad', 'Gujranwala', 'Hyderabad', 'Islamabad', 'Lahore', 'Multan', 'Quetta']\n",
      "['Faisalabad', 'Gujranwala', 'Hyderabad', 'Islamabad', 'Lahore', 'Multan', 'Quetta']\n"
     ]
    }
   ],
   "source": [
    "cities.remove(\"Quetta\")\n",
    "print(cities)\n",
    "print(cities_new)  # Both lists will reflect the change since it's a shallow copy"
   ]
  },
  {
   "cell_type": "code",
   "execution_count": 72,
   "id": "ed0fd93b",
   "metadata": {},
   "outputs": [
    {
     "data": {
      "text/plain": [
       "(list, 2002688240960)"
      ]
     },
     "execution_count": 72,
     "metadata": {},
     "output_type": "execute_result"
    }
   ],
   "source": [
    "type(cities_new), id(cities_new)\n",
    "type(cities), id(cities)"
   ]
  },
  {
   "cell_type": "code",
   "execution_count": 76,
   "id": "d664f7c8",
   "metadata": {},
   "outputs": [
    {
     "name": "stdout",
     "output_type": "stream",
     "text": [
      "['Ali', 'Ahmed', 'Sara', 'Fatima']\n"
     ]
    }
   ],
   "source": [
    "students = [\"Ali\", \"Ahmed\", \"Sara\", \"Fatima\"]\n",
    "print(students)"
   ]
  },
  {
   "cell_type": "code",
   "execution_count": 81,
   "id": "afd5ce49",
   "metadata": {},
   "outputs": [
    {
     "name": "stdout",
     "output_type": "stream",
     "text": [
      "['Ali', 'Sara']\n"
     ]
    }
   ],
   "source": [
    "students.pop(1)  # Remove the last student\n",
    "print(students) "
   ]
  },
  {
   "cell_type": "code",
   "execution_count": 89,
   "id": "517cac2c",
   "metadata": {},
   "outputs": [
    {
     "name": "stdout",
     "output_type": "stream",
     "text": [
      "Index of Sara: 1\n"
     ]
    }
   ],
   "source": [
    "index = students.index(\"Sara\")  # Find the index of a student\n",
    "print(\"Index of Sara:\", index)"
   ]
  },
  {
   "cell_type": "code",
   "execution_count": 93,
   "id": "9fa403b8",
   "metadata": {},
   "outputs": [
    {
     "name": "stdout",
     "output_type": "stream",
     "text": [
      "After pop: ['Faisalabad', 'Gujranwala']\n",
      "City removed using pop: Quetta\n",
      "After remove: ['Gujranwala']\n"
     ]
    }
   ],
   "source": [
    "# pop() removes an item at a given index (default is the last item) and returns it\n",
    "removed_city = cities.pop(2)  # Removes the city at index 2\n",
    "print(\"After pop:\", cities)\n",
    "print(\"City removed using pop:\", removed_city)\n",
    "\n",
    "# remove() removes the first occurrence of a value\n",
    "cities.remove(\"Faisalabad\")  # Removes the city named \"Lahore\"\n",
    "print(\"After remove:\", cities)"
   ]
  },
  {
   "cell_type": "markdown",
   "id": "70cb27c2",
   "metadata": {},
   "source": [
    "Tuple"
   ]
  },
  {
   "cell_type": "code",
   "execution_count": 104,
   "id": "faedd4a9",
   "metadata": {},
   "outputs": [],
   "source": [
    "bio_data = [\"Qasim\", 26, \"Engineer\" , 80.5] # Tuple with multiple data types"
   ]
  },
  {
   "cell_type": "code",
   "execution_count": 105,
   "id": "cdd4ebfa",
   "metadata": {},
   "outputs": [
    {
     "name": "stdout",
     "output_type": "stream",
     "text": [
      "['Qasim', 'Engineer', 80.5]\n"
     ]
    }
   ],
   "source": [
    "del bio_data[1]  # Deleting the bio_data variable\n",
    "print(bio_data)  # Display the bio_data tuple"
   ]
  },
  {
   "cell_type": "code",
   "execution_count": 95,
   "id": "0ecf0914",
   "metadata": {},
   "outputs": [
    {
     "name": "stdout",
     "output_type": "stream",
     "text": [
      "['Qasim', 26, 'Engineer', 80.5]\n"
     ]
    }
   ],
   "source": [
    "print(bio_data)  # Display the bio_data tuple"
   ]
  },
  {
   "cell_type": "code",
   "execution_count": 110,
   "id": "717143a8",
   "metadata": {},
   "outputs": [
    {
     "name": "stdout",
     "output_type": "stream",
     "text": [
      "('Qasim', 'Engineer', 80.5)\n"
     ]
    }
   ],
   "source": [
    "nio_data_t = tuple(bio_data)  # Convert list to tuple\n",
    "print(nio_data_t)  # Display the tuple"
   ]
  },
  {
   "cell_type": "code",
   "execution_count": 118,
   "id": "3b7d190c",
   "metadata": {},
   "outputs": [
    {
     "name": "stdout",
     "output_type": "stream",
     "text": [
      "80.5\n",
      "2\n"
     ]
    }
   ],
   "source": [
    "# To get the first element of the tuple:\n",
    "print(nio_data_t[2])\n",
    "\n",
    "# To get the index of \"Qasim\" in the tuple:\n",
    "print(nio_data_t.index(80.5))"
   ]
  },
  {
   "cell_type": "markdown",
   "id": "4ed43a31",
   "metadata": {},
   "source": [
    "***Set (No value repeat)"
   ]
  },
  {
   "cell_type": "code",
   "execution_count": 121,
   "id": "1bcff98a",
   "metadata": {},
   "outputs": [
    {
     "name": "stdout",
     "output_type": "stream",
     "text": [
      "{'Ali', 'Sara'}\n",
      "['Ali', 'Sara']\n"
     ]
    }
   ],
   "source": [
    "students_set  = set(students) \n",
    "print(students_set)  # Display the set of students\n",
    "print(students)"
   ]
  },
  {
   "cell_type": "code",
   "execution_count": 122,
   "id": "6b36a01e",
   "metadata": {},
   "outputs": [
    {
     "name": "stdout",
     "output_type": "stream",
     "text": [
      "['Ali', 'Sara', 'Ali']\n",
      "{'Ali', 'Sara'}\n"
     ]
    }
   ],
   "source": [
    "students.append(\"Ali\")\n",
    "print(students)  # Display the updated list of students\n",
    "print(students_set)"
   ]
  },
  {
   "cell_type": "code",
   "execution_count": 133,
   "id": "6a94bd67",
   "metadata": {},
   "outputs": [
    {
     "name": "stdout",
     "output_type": "stream",
     "text": [
      "{'Ali', 'Affan', 'Sara'}\n",
      "{'Ali', 'Affan', 'Sara'}\n"
     ]
    },
    {
     "ename": "TypeError",
     "evalue": "set.add() takes exactly one argument (2 given)",
     "output_type": "error",
     "traceback": [
      "\u001b[31m---------------------------------------------------------------------------\u001b[39m",
      "\u001b[31mTypeError\u001b[39m                                 Traceback (most recent call last)",
      "\u001b[36mCell\u001b[39m\u001b[36m \u001b[39m\u001b[32mIn[133]\u001b[39m\u001b[32m, line 5\u001b[39m\n\u001b[32m      3\u001b[39m copy_student_set = students_set.copy()\n\u001b[32m      4\u001b[39m \u001b[38;5;28mprint\u001b[39m(copy_student_set)  \u001b[38;5;66;03m# Display the copied set of students\u001b[39;00m\n\u001b[32m----> \u001b[39m\u001b[32m5\u001b[39m \u001b[43mcopy_student_set\u001b[49m\u001b[43m.\u001b[49m\u001b[43madd\u001b[49m\u001b[43m(\u001b[49m\u001b[33;43m\"\u001b[39;49m\u001b[33;43mRehan\u001b[39;49m\u001b[33;43m\"\u001b[39;49m\u001b[43m,\u001b[49m\u001b[33;43m\"\u001b[39;49m\u001b[33;43mShallow\u001b[39;49m\u001b[33;43m\"\u001b[39;49m\u001b[43m)\u001b[49m\n",
      "\u001b[31mTypeError\u001b[39m: set.add() takes exactly one argument (2 given)"
     ]
    }
   ],
   "source": [
    "students_set.add(\"Affan\")  # Adding a duplicate value to the set\n",
    "print(students_set)  # Display the updated set of students\n",
    "copy_student_set = students_set.copy()\n",
    "print(copy_student_set)  # Display the copied set of students\n",
    "copy_student_set.add(\"Rehan\",\"Shallow\")\n"
   ]
  },
  {
   "cell_type": "code",
   "execution_count": null,
   "id": "248add53",
   "metadata": {},
   "outputs": [
    {
     "name": "stdout",
     "output_type": "stream",
     "text": [
      "{'Ali', 'Affan', 'Sara'}\n",
      "{'Ali', 'Affan', 'Sara'}\n"
     ]
    }
   ],
   "source": [
    "students_set.difference(students_set, copy_student_set)  # This line is not necessary, but included for completeness\n",
    "print(students_set)  # Display the set of students after difference operation\n",
    "print(copy_student_set # Display the copied set of students after difference operation"
   ]
  }
 ],
 "metadata": {
  "kernelspec": {
   "display_name": "Python 3",
   "language": "python",
   "name": "python3"
  },
  "language_info": {
   "codemirror_mode": {
    "name": "ipython",
    "version": 3
   },
   "file_extension": ".py",
   "mimetype": "text/x-python",
   "name": "python",
   "nbconvert_exporter": "python",
   "pygments_lexer": "ipython3",
   "version": "3.13.5"
  }
 },
 "nbformat": 4,
 "nbformat_minor": 5
}
