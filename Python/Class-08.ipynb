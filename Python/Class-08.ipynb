{
 "cells": [
  {
   "cell_type": "code",
   "execution_count": 16,
   "id": "5219f58d",
   "metadata": {},
   "outputs": [
    {
     "name": "stdout",
     "output_type": "stream",
     "text": [
      "Error: Division by zero is not allowed.\n"
     ]
    }
   ],
   "source": [
    "def operator ():\n",
    "    input_01=input(\"Enter first number: \")\n",
    "    input_02=input(\"Enter second number: \") \n",
    "    operator=input(\"Enter operator (+, -, *, /): \")\n",
    "    if operator == \"+\":\n",
    "        result = float(input_01) + float(input_02)\n",
    "        print(\"The result is: \", result)\n",
    "    elif operator == \"-\":\n",
    "        result = float(input_01) - float(input_02)\n",
    "        print(\"The result is: \", result)\n",
    "    elif operator == \"*\":\n",
    "        result = float(input_01) * float(input_02)\n",
    "        print(\"The result is: \", result)    \n",
    "   # elif operator == \"/\":\n",
    "        #if input_02 == \"0\":\n",
    "         #   print(\"Error: Division by zero is not allowed.\")\n",
    "    elif operator == \"/\" :\n",
    "        if float(input_02) == 0:\n",
    "            print(\"Error: Division by zero is not allowed.\")\n",
    "        else:\n",
    "            result = float(input_01) / float(input_02)\n",
    "            print(\"The result is: \", result)\n",
    "    else:\n",
    "        print(\"Invalid operator. Please use +, -, *, or /.\")    \n",
    " \n",
    "operator()\n",
    "# Simple calculator program7\n"
   ]
  }
 ],
 "metadata": {
  "kernelspec": {
   "display_name": "Python 3",
   "language": "python",
   "name": "python3"
  },
  "language_info": {
   "codemirror_mode": {
    "name": "ipython",
    "version": 3
   },
   "file_extension": ".py",
   "mimetype": "text/x-python",
   "name": "python",
   "nbconvert_exporter": "python",
   "pygments_lexer": "ipython3",
   "version": "3.13.5"
  }
 },
 "nbformat": 4,
 "nbformat_minor": 5
}
