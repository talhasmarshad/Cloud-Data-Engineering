{
 "cells": [
  {
   "cell_type": "code",
   "execution_count": 4,
   "id": "1a6d7c09",
   "metadata": {},
   "outputs": [
    {
     "name": "stdout",
     "output_type": "stream",
     "text": [
      "2\n",
      "4\n",
      "6\n",
      "8\n",
      "10\n"
     ]
    }
   ],
   "source": [
    "for temp_var in [1, 2, 3, 4, 5]:\n",
    "    loop_body = temp_var * 2\n",
    "    print(loop_body)"
   ]
  },
  {
   "cell_type": "code",
   "execution_count": 7,
   "id": "3fdedb86",
   "metadata": {},
   "outputs": [
    {
     "name": "stdout",
     "output_type": "stream",
     "text": [
      "1\n",
      "2\n",
      "3\n",
      "4\n",
      "5\n",
      "6\n",
      "7\n"
     ]
    }
   ],
   "source": [
    "a = 6\n",
    "b = 7\n",
    "for temp in {1, 2, 3, 4, 5, a, b}:\n",
    "    print(temp)"
   ]
  },
  {
   "cell_type": "code",
   "execution_count": 4,
   "id": "73ac65e5",
   "metadata": {},
   "outputs": [
    {
     "name": "stdout",
     "output_type": "stream",
     "text": [
      "Happy BirthdayHappy BirthdayHappy BirthdayHappy BirthdayHappy Birthday\n"
     ]
    }
   ],
   "source": [
    "for temp_var in [\"Happy Birthday\"]:\n",
    "    print(temp_var * 5) "
   ]
  },
  {
   "cell_type": "code",
   "execution_count": 12,
   "id": "90817a6b",
   "metadata": {},
   "outputs": [
    {
     "name": "stdout",
     "output_type": "stream",
     "text": [
      "0 Happy Birthday\n",
      "1 Happy Birthday\n",
      "2 Happy Birthday\n",
      "3 Happy Birthday\n",
      "4 Happy Birthday\n"
     ]
    }
   ],
   "source": [
    "for temp_var in range(5):\n",
    "    print(temp_var, \"Happy Birthday\") "
   ]
  },
  {
   "cell_type": "code",
   "execution_count": 14,
   "id": "e0d4a129",
   "metadata": {},
   "outputs": [
    {
     "name": "stdout",
     "output_type": "stream",
     "text": [
      "0 Happy Birthday\n",
      "1 Happy Birthday\n",
      "2 Happy Birthday\n",
      "3 Happy Birthday\n"
     ]
    }
   ],
   "source": [
    "times = int(input(\"How many times do you want to print 'Happy Birthday'?\")) \n",
    "for temp_var in range(times):\n",
    "    print(temp_var, \"Happy Birthday\") "
   ]
  },
  {
   "cell_type": "code",
   "execution_count": 24,
   "id": "591098ec",
   "metadata": {},
   "outputs": [
    {
     "name": "stdout",
     "output_type": "stream",
     "text": [
      "Square of 1 is 1\n",
      "Square of 2 is 4\n",
      "Square of 3 is 9\n",
      "Square of 4 is 16\n",
      "Square of 5 is 25\n"
     ]
    }
   ],
   "source": [
    "# Take input from user (not used for the square calculation, but included as per your code)\n",
    "input_n = int(input(\"Enter a number: \"))\n",
    "\n",
    "# Print the square of the first 6 numbers (1 to 6)\n",
    "for n in range(input_n):\n",
    "    print(f\"Square of {n+1} is {(n+1)**2}\")"
   ]
  },
  {
   "cell_type": "code",
   "execution_count": null,
   "id": "1eecb314",
   "metadata": {},
   "outputs": [],
   "source": [
    "DIctionary"
   ]
  },
  {
   "cell_type": "markdown",
   "id": "2676870e",
   "metadata": {},
   "source": []
  },
  {
   "cell_type": "code",
   "execution_count": null,
   "id": "de0c447a",
   "metadata": {},
   "outputs": [],
   "source": [
    "num = it(input(\"Enter a number:\"))\n"
   ]
  },
  {
   "cell_type": "code",
   "execution_count": 17,
   "id": "37897499",
   "metadata": {},
   "outputs": [
    {
     "ename": "SyntaxError",
     "evalue": "cannot assign to expression (753945174.py, line 1)",
     "output_type": "error",
     "traceback": [
      "  \u001b[36mCell\u001b[39m\u001b[36m \u001b[39m\u001b[32mIn[17]\u001b[39m\u001b[32m, line 1\u001b[39m\n\u001b[31m    \u001b[39m\u001b[31mn = 3 * 1 =3\u001b[39m\n        ^\n\u001b[31mSyntaxError\u001b[39m\u001b[31m:\u001b[39m cannot assign to expression\n"
     ]
    }
   ],
   "source": [
    "n = 3 * 1 =3"
   ]
  },
  {
   "cell_type": "code",
   "execution_count": 37,
   "id": "8f203c56",
   "metadata": {},
   "outputs": [
    {
     "name": "stdout",
     "output_type": "stream",
     "text": [
      "2 x 1 = 2\n",
      "2 x 2 = 4\n",
      "2 x 3 = 6\n",
      "2 x 4 = 8\n",
      "2 x 5 = 10\n"
     ]
    }
   ],
   "source": [
    "table = int(input(\"Enter a number: \"))\n",
    "times = int(input(\"How many times do you want to print the table? \"))\n",
    "for temp in range(1, times + 1):\n",
    "    print(f\"{table} x {temp} = {table * temp}\")   "
   ]
  },
  {
   "cell_type": "code",
   "execution_count": 36,
   "id": "78f3864a",
   "metadata": {},
   "outputs": [
    {
     "name": "stdout",
     "output_type": "stream",
     "text": [
      "5 * 1 = 5\n",
      "5 * 2 = 10\n",
      "5 * 3 = 15\n",
      "5 * 4 = 20\n",
      "5 * 5 = 25\n",
      "5 * 6 = 30\n",
      "5 * 7 = 35\n",
      "5 * 8 = 40\n",
      "5 * 9 = 45\n",
      "5 * 10 = 50\n"
     ]
    }
   ],
   "source": [
    "table = int(input(\"Enter a number: \"))\n",
    "times = int(input(\"How many times do you want to print the table? \"))\n",
    "for temp in range(times):\n",
    "    print (f\"{table} * {temp+1} = {table * (temp+1)}\")"
   ]
  },
  {
   "cell_type": "code",
   "execution_count": 41,
   "id": "7e849f26",
   "metadata": {},
   "outputs": [
    {
     "ename": "SyntaxError",
     "evalue": "invalid syntax (3710447485.py, line 4)",
     "output_type": "error",
     "traceback": [
      "  \u001b[36mCell\u001b[39m\u001b[36m \u001b[39m\u001b[32mIn[41]\u001b[39m\u001b[32m, line 4\u001b[39m\n\u001b[31m    \u001b[39m\u001b[31mfor\u001b[39m\n       ^\n\u001b[31mSyntaxError\u001b[39m\u001b[31m:\u001b[39m invalid syntax\n"
     ]
    }
   ],
   "source": [
    "table = [3,4,5]\n",
    "times = int(input(\"How many times do you want to print the table? \"))\n",
    "for temp in range(times):\n",
    "    for\n",
    "    print (f\"{table} * {temp+1} = {table * (temp+1)}\")"
   ]
  },
  {
   "cell_type": "code",
   "execution_count": 50,
   "id": "78b60458",
   "metadata": {},
   "outputs": [
    {
     "name": "stdout",
     "output_type": "stream",
     "text": [
      "2 * 1 = 2\n",
      "2 * 2 = 4\n",
      "2 * 3 = 6\n",
      "2 * 4 = 8\n",
      "----------  \n",
      "3 * 1 = 3\n",
      "3 * 2 = 6\n",
      "3 * 3 = 9\n",
      "----------  \n",
      "4 * 1 = 4\n",
      "4 * 2 = 8\n",
      "----------  \n",
      "5 * 1 = 5\n",
      "----------  \n"
     ]
    }
   ],
   "source": [
    "num = int(input(\"Enter a number: \"))\n",
    "for x in [2,3,4,5]:\n",
    "    for y in range(1,num):\n",
    "     print(f\"{x} * {y} = {x * y}\")\n",
    "    num -=1\n",
    "    print(f\"----------  \")"
   ]
  },
  {
   "cell_type": "code",
   "execution_count": 79,
   "id": "f4a9f3c8",
   "metadata": {},
   "outputs": [
    {
     "name": "stdout",
     "output_type": "stream",
     "text": [
      "2 * 1 = 2\n",
      "2 * 2 = 4\n",
      "2 * 3 = 6\n",
      "2 * 4 = 8\n",
      "2 * 5 = 10\n",
      "3 * 1 = 3\n",
      "3 * 2 = 6\n",
      "3 * 3 = 9\n",
      "3 * 4 = 12\n",
      "4 * 1 = 4\n",
      "4 * 2 = 8\n",
      "4 * 3 = 12\n"
     ]
    }
   ],
   "source": [
    "times = int(input(\"How many times do you want to print the table? \"))\n",
    "for table in range (2,5):\n",
    " for temp in range (times):\n",
    "    print(f\"{table} * {temp+1} = {table * (temp+1)}\")\n",
    " times -= 1"
   ]
  },
  {
   "cell_type": "code",
   "execution_count": null,
   "id": "3f226064",
   "metadata": {},
   "outputs": [],
   "source": []
  },
  {
   "cell_type": "code",
   "execution_count": null,
   "id": "33e25542",
   "metadata": {},
   "outputs": [],
   "source": [
    "- Key =: ValueE\n",
    "['Qasim', 'Hassan', 18, 21]"
   ]
  },
  {
   "cell_type": "code",
   "execution_count": 105,
   "id": "71cd483a",
   "metadata": {},
   "outputs": [
    {
     "name": "stdout",
     "output_type": "stream",
     "text": [
      "{'f_name': 'Qasim', 'l_name': 'Hassan', 'age': 18, 'height': 21}\n",
      "Qasim None\n"
     ]
    }
   ],
   "source": [
    "bio_data = { \"f_name\": \"Qasim\",\n",
    "    \"l_name\": \"Hassan\",\n",
    "    \"age\": 18,\n",
    "    \"height\": 21}\n",
    "\n",
    "print(bio_data)\n",
    "\n",
    "print(bio_data.get(\"f_name\"),bio_data.get(\"cnic\"))\n"
   ]
  },
  {
   "cell_type": "code",
   "execution_count": 3,
   "id": "e281f228",
   "metadata": {},
   "outputs": [
    {
     "name": "stdout",
     "output_type": "stream",
     "text": [
      "{'f_name': 'Qasim', 'l_name': 'Hassan', 'age': 18, 'height': 21, 'cnic': 1234567890}\n"
     ]
    }
   ],
   "source": [
    "bio_data = {\n",
    "    \"f_name\": \"Qasim\",\n",
    "    \"l_name\": \"Hassan\",\n",
    "    \"age\": 18,\n",
    "    \"height\": 21\n",
    "}\n",
    "\n",
    "# Add a new key-value pair using correct syntax\n",
    "bio_data.update({\"cnic\": 1234567890})\n",
    "print(bio_data)"
   ]
  },
  {
   "cell_type": "code",
   "execution_count": 21,
   "id": "7cad8932",
   "metadata": {},
   "outputs": [
    {
     "name": "stdout",
     "output_type": "stream",
     "text": [
      "Hassan\n"
     ]
    }
   ],
   "source": [
    "\n",
    "bio_data = {\n",
    "    \"f_name\": \"Qasim\",\n",
    "    \"l_name\": \"Hassan\",\n",
    "    \"age\": 18,\n",
    "    \"height\": 21\n",
    "}\n",
    "\n",
    "# Add a new key-value pair using correct syntax\n",
    "print(bio_data.setdefault(\"l_name\"))\n",
    "#print(bio_data)"
   ]
  },
  {
   "cell_type": "markdown",
   "id": "c866e81c",
   "metadata": {},
   "source": [
    "Dictonary Comprehension\n",
    "List Comprehension"
   ]
  },
  {
   "cell_type": "code",
   "execution_count": 26,
   "id": "95a861ca",
   "metadata": {},
   "outputs": [
    {
     "name": "stdout",
     "output_type": "stream",
     "text": [
      "[1, 9, 25, 49]\n"
     ]
    }
   ],
   "source": [
    "l =  [ i ** 2 for i in range (1,8,2)]\n",
    "print(l)"
   ]
  },
  {
   "cell_type": "markdown",
   "id": "ff0b100b",
   "metadata": {},
   "source": [
    "Dictory Comprehension"
   ]
  },
  {
   "cell_type": "code",
   "execution_count": 30,
   "id": "77f7f422",
   "metadata": {},
   "outputs": [
    {
     "name": "stdout",
     "output_type": "stream",
     "text": [
      "{0: 0, 1: 1, 2: 4, 3: 9, 4: 16}\n"
     ]
    }
   ],
   "source": [
    "d = {ii : ii**2 for ii in range(5)}\n",
    "print(d)"
   ]
  },
  {
   "cell_type": "code",
   "execution_count": 33,
   "id": "6ed6f535",
   "metadata": {},
   "outputs": [
    {
     "name": "stdout",
     "output_type": "stream",
     "text": [
      "{'Ahmed': 80, 'Sara': 90}\n"
     ]
    }
   ],
   "source": [
    "result = {\"Ali\":60, \"Ahmed\":80, \"Sara\":90}\n",
    "passed = {name:marks for name, marks in result.items() if marks >= 70}\n",
    "print(passed)"
   ]
  }
 ],
 "metadata": {
  "kernelspec": {
   "display_name": "Python 3",
   "language": "python",
   "name": "python3"
  },
  "language_info": {
   "codemirror_mode": {
    "name": "ipython",
    "version": 3
   },
   "file_extension": ".py",
   "mimetype": "text/x-python",
   "name": "python",
   "nbconvert_exporter": "python",
   "pygments_lexer": "ipython3",
   "version": "3.13.5"
  }
 },
 "nbformat": 4,
 "nbformat_minor": 5
}
