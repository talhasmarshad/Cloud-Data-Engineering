{
 "cells": [
  {
   "cell_type": "markdown",
   "metadata": {},
   "source": [
    "# Part -1 Python Basics (Variables)"
   ]
  },
  {
   "cell_type": "markdown",
   "metadata": {},
   "source": [
    "1. Print Your Name with your Father name and Date of birth using suitable escape sequence charactor"
   ]
  },
  {
   "cell_type": "code",
   "execution_count": 25,
   "metadata": {},
   "outputs": [
    {
     "name": "stdout",
     "output_type": "stream",
     "text": [
      "\tName:\t Talha Arshad\n",
      "        Father's Name:\tSyed  Muhammad Arshad\n",
      "        Date of Birth:\t 28-09-1992\n"
     ]
    }
   ],
   "source": [
    "print(\"\"\"\\tName:\\t Talha Arshad\n",
    "        Father's Name:\\tSyed  Muhammad Arshad\n",
    "        Date of Birth:\\t 28-09-1992\"\"\")"
   ]
  },
  {
   "cell_type": "markdown",
   "metadata": {},
   "source": [
    "2. Write your small bio using variables and print it using print function"
   ]
  },
  {
   "cell_type": "code",
   "execution_count": 14,
   "metadata": {},
   "outputs": [
    {
     "name": "stdout",
     "output_type": "stream",
     "text": [
      " My name is Talha Arshad.\n",
      " My father's name is Syed Muhammad Arshad. \n",
      " I was born on 28-09-1992. \n",
      " I have completed my BE Electronics Engineering.\n"
     ]
    }
   ],
   "source": [
    "Name = \"Talha Arshad\"\n",
    "Father_Name = \"Syed Muhammad Arshad\"\n",
    "DOB = \"28-09-1992\"\n",
    "Education = \"BE Electronics Engineering\"\n",
    "\n",
    "print(f\" My name is {Name}.\\n My father's name is {Father_Name}. \\n I was born on {DOB}. \\n I have completed my {Education}.\")"
   ]
  },
  {
   "cell_type": "markdown",
   "metadata": {},
   "source": [
    "3. Write a program in which use all the operators we can use in Python"
   ]
  },
  {
   "cell_type": "code",
   "execution_count": 36,
   "metadata": {},
   "outputs": [
    {
     "name": "stdout",
     "output_type": "stream",
     "text": [
      "Arithmetic Operators:\n",
      "Addition: 15\n",
      "Subtraction: 7\n",
      "Multiplication: 44\n",
      "Division: 2.75\n",
      "Floor Division: 2\n",
      "Modulus: 3\n",
      "Exponent: 14641\n",
      "\n",
      "Comparison Operators:\n",
      "Num1 == Num2: False\n",
      "Num1 != Num2: True\n",
      "Num1 > Num2: True\n",
      "Num1 < Num2: False\n",
      "Num1 >= Num2: True\n",
      "Num1 <= Num2: False\n",
      "\n",
      "Initial value of a: 11\n",
      "After a += Num2: 15\n",
      "After a -= Num2: 11\n",
      "After a *= Num2: 44\n",
      "After a /= Num2: 11.0\n",
      "After a //= Num2: 2.0\n",
      "After a %= Num2: 2.0\n",
      "After a **= 2: 4.0\n",
      "\n",
      "Assignment Operators:\n",
      "Final value of a: 4.0\n"
     ]
    }
   ],
   "source": [
    "Num1 = 11\n",
    "Num2 = 4 \n",
    "# Arithmetic Operators\n",
    "add = Num1 + Num2\n",
    "sub = Num1 - Num2\n",
    "mul = Num1 * Num2\n",
    "div = Num1 / Num2\n",
    "floordiv = Num1 // Num2\n",
    "mod = Num1 % Num2\n",
    "exp = Num1 ** Num2\n",
    "\n",
    "print(\"Arithmetic Operators:\")\n",
    "print(f\"Addition: {add}\")\n",
    "print(f\"Subtraction: {sub}\")\n",
    "print(f\"Multiplication: {mul}\")\n",
    "print(f\"Division: {div}\")\n",
    "print(f\"Floor Division: {floordiv}\")\n",
    "print(f\"Modulus: {mod}\")\n",
    "print(f\"Exponent: {exp}\")\n",
    "\n",
    "# Comparison Operators\n",
    "print(\"\\nComparison Operators:\")\n",
    "print(f\"Num1 == Num2: {Num1 == Num2}\")\n",
    "print(f\"Num1 != Num2: {Num1 != Num2}\")\n",
    "print(f\"Num1 > Num2: {Num1 > Num2}\")\n",
    "print(f\"Num1 < Num2: {Num1 < Num2}\")\n",
    "print(f\"Num1 >= Num2: {Num1 >= Num2}\")\n",
    "print(f\"Num1 <= Num2: {Num1 <= Num2}\")\n",
    "\n",
    "# Assignment Operators\n",
    "a = Num1\n",
    "print(f\"\\nInitial value of a: {a}\")\n",
    "a += Num2\n",
    "print(f\"After a += Num2: {a}\")\n",
    "a -= Num2\n",
    "print(f\"After a -= Num2: {a}\")\n",
    "a *= Num2\n",
    "print(f\"After a *= Num2: {a}\")\n",
    "a /= Num2\n",
    "print(f\"After a /= Num2: {a}\")\n",
    "a //= Num2\n",
    "print(f\"After a //= Num2: {a}\")\n",
    "a %= Num2\n",
    "print(f\"After a %= Num2: {a}\")\n",
    "a **= 2 \n",
    "print(f\"After a **= 2: {a}\")\n",
    "print(\"\\nAssignment Operators:\")\n",
    "print(f\"Final value of a: {a}\")"
   ]
  },
  {
   "cell_type": "markdown",
   "metadata": {},
   "source": [
    "4. Completes the following steps of small task:\n",
    "    - Mention Marks of English , Islamiat and Maths out of 100 in 3 different variables\n",
    "    - Mention Variable of Total Marks and assign 300 to it\n",
    "    - Calculate Percentage"
   ]
  },
  {
   "cell_type": "code",
   "execution_count": 42,
   "metadata": {},
   "outputs": [
    {
     "name": "stdout",
     "output_type": "stream",
     "text": [
      "Obtained Marks: 255 out of 300\n",
      "Percentage: 85.0000%\n"
     ]
    }
   ],
   "source": [
    "\n",
    "english_marks = 85\n",
    "islamiat_marks = 78\n",
    "maths_marks = 92\n",
    "\n",
    "total_marks = 300\n",
    "\n",
    "obtained_marks = english_marks + islamiat_marks + maths_marks\n",
    "\n",
    "# Calculate percentage\n",
    "percentage = (obtained_marks / total_marks) * 100\n",
    "\n",
    "print(f\"Obtained Marks: {obtained_marks} out of {total_marks}\")\n",
    "print(f\"Percentage: {percentage:.4f}%\")"
   ]
  },
  {
   "cell_type": "markdown",
   "metadata": {},
   "source": [
    "# Part -2 Python Basics (Conditional Statements)"
   ]
  },
  {
   "cell_type": "markdown",
   "metadata": {},
   "source": [
    "1) A company decided to give bonus of 5% to employee if his/her year of service is more than 5 years.\n",
    "Ask user for their salary and year of service and print the net bonus amount."
   ]
  },
  {
   "cell_type": "code",
   "execution_count": 92,
   "metadata": {},
   "outputs": [
    {
     "ename": "ValueError",
     "evalue": "invalid literal for int() with base 10: ''",
     "output_type": "error",
     "traceback": [
      "\u001b[31m---------------------------------------------------------------------------\u001b[39m",
      "\u001b[31mValueError\u001b[39m                                Traceback (most recent call last)",
      "\u001b[36mCell\u001b[39m\u001b[36m \u001b[39m\u001b[32mIn[92]\u001b[39m\u001b[32m, line 5\u001b[39m\n\u001b[32m      1\u001b[39m \u001b[38;5;66;03m# Remove or rename the variable 'input' if it exists to restore the built-in input() function\u001b[39;00m\n\u001b[32m      2\u001b[39m \u001b[38;5;66;03m# if 'input' in globals():\u001b[39;00m\n\u001b[32m      3\u001b[39m  \u001b[38;5;66;03m#   del input\u001b[39;00m\n\u001b[32m----> \u001b[39m\u001b[32m5\u001b[39m sal1 = \u001b[38;5;28;43mint\u001b[39;49m\u001b[43m(\u001b[49m\u001b[38;5;28;43minput\u001b[39;49m\u001b[43m(\u001b[49m\u001b[33;43m\"\u001b[39;49m\u001b[33;43mEnter your salary: \u001b[39;49m\u001b[33;43m\"\u001b[39;49m\u001b[43m)\u001b[49m\u001b[43m)\u001b[49m\n\u001b[32m      6\u001b[39m serviceyear = \u001b[38;5;28mint\u001b[39m(\u001b[38;5;28minput\u001b[39m(\u001b[33m\"\u001b[39m\u001b[33mEnter your service year: \u001b[39m\u001b[33m\"\u001b[39m))\n\u001b[32m      8\u001b[39m \u001b[38;5;28;01mif\u001b[39;00m serviceyear > \u001b[32m5\u001b[39m:\n",
      "\u001b[31mValueError\u001b[39m: invalid literal for int() with base 10: ''"
     ]
    }
   ],
   "source": [
    "# Remove or rename the variable 'input' if it exists to restore the built-in input() function\n",
    "# if 'input' in globals():\n",
    " #   del input\n",
    "\n",
    "sal1 = int(input(\"Enter your salary: \"))\n",
    "serviceyear = int(input(\"Enter your service year: \"))\n",
    "\n",
    "if serviceyear > 5:\n",
    "    bonus = float(sal1 * 0.05)\n",
    "    totalsal = float(sal1 + bonus)\n",
    "    print(f\"Your bonus is: {bonus}\")\n",
    "    print(f\"Your total salary with bonus is: {totalsal}\")\n",
    "else:\n",
    "    print(\"You are not eligible for bonus\")\n"
   ]
  },
  {
   "cell_type": "markdown",
   "metadata": {},
   "source": [
    "\n",
    "2) Write a program to check whether a person is eligible for voting or not. (accept age from user) if age is greater than 17 eligible otherwise not eligible"
   ]
  },
  {
   "cell_type": "code",
   "execution_count": 93,
   "metadata": {},
   "outputs": [
    {
     "name": "stdout",
     "output_type": "stream",
     "text": [
      "You are not eligible for vot.\n"
     ]
    }
   ],
   "source": [
    "age = int(input(\"Enter your age: \"))\n",
    "if age > 17:\n",
    "    print(\"You are eligible for vot.\")\n",
    "else:\n",
    "    print(\"You are not eligible for vot.\")"
   ]
  },
  {
   "cell_type": "markdown",
   "metadata": {},
   "source": [
    "\n",
    "3) Write a program to check whether a number entered by user is even or odd."
   ]
  },
  {
   "cell_type": "code",
   "execution_count": 94,
   "metadata": {},
   "outputs": [
    {
     "name": "stdout",
     "output_type": "stream",
     "text": [
      "The number is odd.\n"
     ]
    }
   ],
   "source": [
    "num_1 = int(input(\"Enter a number: \"))\n",
    "if num_1 % 2 == 0:\n",
    "    print(\"The number is even.\")\n",
    "else:\n",
    "    print(\"The number is odd.\")"
   ]
  },
  {
   "cell_type": "markdown",
   "metadata": {},
   "source": [
    "4) Write a program to check whether a number is divisible by 7 or not.\n",
    "Show Answer"
   ]
  },
  {
   "cell_type": "code",
   "execution_count": 97,
   "metadata": {},
   "outputs": [
    {
     "name": "stdout",
     "output_type": "stream",
     "text": [
      "The number is not.\n"
     ]
    }
   ],
   "source": [
    "num_1 = int(input(\"Enter a number: \"))\n",
    "if num_1 % 7 == 0:\n",
    "    print(\"The number divisible by 7.\")\n",
    "else:\n",
    "    print(\"The number is not.\")"
   ]
  },
  {
   "cell_type": "markdown",
   "metadata": {},
   "source": [
    "5) Write a program to display \n",
    "\"Hello\" if a number entered by user is a multiple of five , otherwise print \"Bye\"."
   ]
  },
  {
   "cell_type": "code",
   "execution_count": 98,
   "metadata": {},
   "outputs": [
    {
     "name": "stdout",
     "output_type": "stream",
     "text": [
      "Bye\n"
     ]
    }
   ],
   "source": [
    "num_1 = int(input(\"Enter a number: \"))\n",
    "if num_1 % 5 == 0:\n",
    "    print(\"Hello\")\n",
    "else:\n",
    "    print(\"Bye\")"
   ]
  },
  {
   "cell_type": "markdown",
   "metadata": {},
   "source": [
    "7) Write a program to display the last digit of a number.\n"
   ]
  },
  {
   "cell_type": "code",
   "execution_count": 8,
   "metadata": {},
   "outputs": [
    {
     "name": "stdout",
     "output_type": "stream",
     "text": [
      "The last digit of the number is: 1\n"
     ]
    }
   ],
   "source": [
    "number = int(input(\"Enter a number: \"))\n",
    "last_digit = number % 10\n",
    "print(f\"The last digit of the number is: {last_digit}\")"
   ]
  },
  {
   "cell_type": "markdown",
   "metadata": {},
   "source": [
    "9) Take values of length and breadth of a rectangle from user and print if it is square or rectangle."
   ]
  },
  {
   "cell_type": "code",
   "execution_count": 102,
   "metadata": {},
   "outputs": [
    {
     "name": "stdout",
     "output_type": "stream",
     "text": [
      "The shape is a rectangle.\n"
     ]
    }
   ],
   "source": [
    "number_1 = int(input(\"Enter a length: \"))\n",
    "number_2 = int(input(\"Enter a breadth: \"))\n",
    "\n",
    "if number_1 == number_2:\n",
    "    print(\"The shape is a square.\") \n",
    "else:\n",
    "    print(\"The shape is a rectangle.\")"
   ]
  },
  {
   "cell_type": "markdown",
   "metadata": {},
   "source": [
    "10) Take two int values from user and print greatest among them."
   ]
  },
  {
   "cell_type": "code",
   "execution_count": 104,
   "metadata": {},
   "outputs": [
    {
     "name": "stdout",
     "output_type": "stream",
     "text": [
      "The numbers are: 5 and 6\n",
      "6\n"
     ]
    }
   ],
   "source": [
    "number_1 = int(input(\"Enter a num1: \"))\n",
    "number_2 = int(input(\"Enter a num2: \"))\n",
    "\n",
    "print(f\"The numbers are: {number_1} and {number_2}\")\n",
    "if number_1 > number_2:\n",
    "    print(f\"{number_1} \")\n",
    "else:\n",
    "    print(f\"{number_2}\") \n",
    "\n"
   ]
  },
  {
   "cell_type": "code",
   "execution_count": 105,
   "metadata": {},
   "outputs": [
    {
     "name": "stdout",
     "output_type": "stream",
     "text": [
      "The numbers are: 5 and 6\n",
      "6\n"
     ]
    },
    {
     "data": {
      "text/plain": [
       "[None]"
      ]
     },
     "execution_count": 105,
     "metadata": {},
     "output_type": "execute_result"
    }
   ],
   "source": [
    "# list comprehension \n",
    "number_1 = int(input(\"Enter a num1: \"))\n",
    "number_2 = int(input(\"Enter a num2: \"))\n",
    "\n",
    "print(f\"The numbers are: {number_1} and {number_2}\")\n",
    "[print(number_1) if number_1 > number_2 else print(number_2)]"
   ]
  },
  {
   "cell_type": "markdown",
   "metadata": {},
   "source": [
    "11) A shop will give discount of 10% if the cost of purchased quantity is more than 1000.\n",
    "Ask user for quantity\n",
    "Suppose, one unit will cost 100.\n",
    "Judge and print total cost for user."
   ]
  },
  {
   "cell_type": "code",
   "execution_count": 107,
   "metadata": {},
   "outputs": [
    {
     "name": "stdout",
     "output_type": "stream",
     "text": [
      "Your bill is: 900\n"
     ]
    }
   ],
   "source": [
    "Price = 100\n",
    "Quantity = int(input(\"Enter quantity: \"))\n",
    "Bill = Price * Quantity\n",
    "if Bill > 1000:\n",
    "    Bill = Bill - (Bill * 0.10)\n",
    "    print(f\"Your bill after 10% discount is: {Bill}\") \n",
    "else:\n",
    "    print(f\"Your bill is: {Bill}\")"
   ]
  },
  {
   "cell_type": "markdown",
   "metadata": {},
   "source": [
    "12) A school has following rules for grading system:\n",
    "\n",
    "a. Below 25 - F\n",
    "\n",
    "b. 25 to 45 - E\n",
    "\n",
    "c. 45 to 50 - D\n",
    "\n",
    "d. 50 to 60 - C\n",
    "\n",
    "e. 60 to 80 - B\n",
    "\n",
    "f. Above 80 - A\n",
    "\n",
    "Ask user to enter marks and print the corresponding grade."
   ]
  },
  {
   "cell_type": "code",
   "execution_count": 110,
   "metadata": {},
   "outputs": [
    {
     "name": "stdout",
     "output_type": "stream",
     "text": [
      "Your grade is: B\n"
     ]
    }
   ],
   "source": [
    "marks = int(input(\"Enter your marks: \"))\n",
    "\n",
    "if marks < 25:\n",
    "    grade = 'F'\n",
    "elif 25 <= marks <= 45:\n",
    "    grade = 'E'\n",
    "elif 45 < marks <= 50:\n",
    "    grade = 'D'\n",
    "elif 50 < marks <= 60:\n",
    "    grade = 'C'\n",
    "elif 60 < marks <= 80:\n",
    "    grade = 'B'\n",
    "else:\n",
    "    grade = 'A'\n",
    "\n",
    "print(f\"Your grade is: {grade}\")"
   ]
  },
  {
   "cell_type": "markdown",
   "metadata": {},
   "source": [
    "14)A student will not be allowed to sit in exam if his/her attendence is less than 75%.\n",
    "\n",
    "Take following input from user\n",
    "\n",
    "- Number of classes held\n",
    "\n",
    "- Number of classes attended.\n",
    "\n",
    "And print\n",
    "\n",
    "- percentage of class attended\n",
    "\n",
    "- Is student is allowed to sit in exam or not.\n"
   ]
  },
  {
   "cell_type": "code",
   "execution_count": 111,
   "metadata": {
    "vscode": {
     "languageId": "ruby"
    }
   },
   "outputs": [
    {
     "name": "stdout",
     "output_type": "stream",
     "text": [
      "Percentage of classes attended: 90.00%\n",
      "Student is allowed to sit in exam.\n"
     ]
    }
   ],
   "source": [
    "classes_held = int(input(\"Enter number of classes held: \"))\n",
    "classes_attended = int(input(\"Enter number of classes attended: \"))\n",
    "attendance_percentage = (classes_attended / classes_held) * 100\n",
    "\n",
    "print(f\"Percentage of classes attended: {attendance_percentage:.2f}%\")\n",
    "\n",
    "if attendance_percentage >= 75:\n",
    "    print(\"Student is allowed to sit in exam.\")\n",
    "else:\n",
    "    print(\"Student is not allowed to sit in exam.\")"
   ]
  },
  {
   "cell_type": "markdown",
   "metadata": {},
   "source": [
    "15) Modify the above question to allow student to sit if he/she has medical cause. Ask user if he/she has medical cause or not ( 'Y' or 'N' ) and print accordingly."
   ]
  },
  {
   "cell_type": "code",
   "execution_count": 119,
   "metadata": {},
   "outputs": [
    {
     "ename": "ValueError",
     "evalue": "invalid literal for int() with base 10: ''",
     "output_type": "error",
     "traceback": [
      "\u001b[31m---------------------------------------------------------------------------\u001b[39m",
      "\u001b[31mValueError\u001b[39m                                Traceback (most recent call last)",
      "\u001b[36mCell\u001b[39m\u001b[36m \u001b[39m\u001b[32mIn[119]\u001b[39m\u001b[32m, line 1\u001b[39m\n\u001b[32m----> \u001b[39m\u001b[32m1\u001b[39m classes_held = \u001b[38;5;28;43mint\u001b[39;49m\u001b[43m(\u001b[49m\u001b[38;5;28;43minput\u001b[39;49m\u001b[43m(\u001b[49m\u001b[33;43m\"\u001b[39;49m\u001b[33;43mEnter number of classes held: \u001b[39;49m\u001b[33;43m\"\u001b[39;49m\u001b[43m)\u001b[49m\u001b[43m)\u001b[49m\n\u001b[32m      2\u001b[39m classes_attended = \u001b[38;5;28mint\u001b[39m(\u001b[38;5;28minput\u001b[39m(\u001b[33m\"\u001b[39m\u001b[33mEnter number of classes attended: \u001b[39m\u001b[33m\"\u001b[39m))\n\u001b[32m      3\u001b[39m attendance_percentage = (classes_attended / classes_held) * \u001b[32m100\u001b[39m\n",
      "\u001b[31mValueError\u001b[39m: invalid literal for int() with base 10: ''"
     ]
    }
   ],
   "source": [
    "classes_held = int(input(\"Enter number of classes held: \"))\n",
    "classes_attended = int(input(\"Enter number of classes attended: \"))\n",
    "attendance_percentage = (classes_attended / classes_held) * 100\n",
    "\n",
    "print(f\"Percentage of classes attended: {attendance_percentage:.2f}%\")\n",
    "\n",
    "if attendance_percentage >= 75:\n",
    "    print(\"Student is allowed to sit in exam.\")\n",
    "else:\n",
    "    medical_cause = input(\"Do you have a medical issue? (Y/N): \").strip().upper()\n",
    "    if medical_cause == 'Y':\n",
    "        print(\"Student is allowed to sit in exam due to medical issue.\")\n",
    "    else:\n",
    "        print(\"Student is not allowed to sit in exam.\")"
   ]
  },
  {
   "cell_type": "markdown",
   "metadata": {},
   "source": [
    "16) Write a program to check if a year is leap year or not.\n",
    "\n",
    "If a year is divisible by 4 then it is leap year but if the year is century year like 2000, 1900, 2100 then it must be divisible by 400."
   ]
  },
  {
   "cell_type": "code",
   "execution_count": null,
   "metadata": {},
   "outputs": [
    {
     "name": "stdout",
     "output_type": "stream",
     "text": [
      "1900 is not a leap year.\n"
     ]
    }
   ],
   "source": [
    "year = int(input(\"Enter a year: \"))\n",
    "\n",
    "if (year % 4 == 0) or (year % 400 == 0):\n",
    "\tprint(f\"{year} is a leap year.\")\n",
    "else:\n",
    "\tprint(f\"{year} is not a leap year.\")"
   ]
  },
  {
   "cell_type": "markdown",
   "metadata": {},
   "source": [
    "17) Ask user to enter age, gender ( M or F ), marital status ( Y or N ) and then using following rules print their place of service.\n",
    "\n",
    "if employee is female, then she will work only in urban areas.\n",
    "\n",
    "if employee is a male and age is in between 20 to 40 then he may work in anywhere\n",
    "\n",
    "if employee is male and age is in between 40 t0 60 then he will work in urban areas only.\n",
    "\n",
    "And any other input of age should print \"ERROR\""
   ]
  },
  {
   "cell_type": "code",
   "execution_count": 22,
   "metadata": {},
   "outputs": [],
   "source": [
    "#Type your code here"
   ]
  },
  {
   "cell_type": "markdown",
   "metadata": {},
   "source": [
    "6) Write a program to calculate the electricity bill (accept number of unit from user) according to the following criteria :\n",
    "     Unit                                                     Price  \n",
    "uptp 100 units                                             no charge\n",
    "Next 200 units                                              Rs 5 per unit\n",
    "After 200 units                                             Rs 10 per unit\n",
    "(For example if input unit is 350 than total bill amount is Rs.3500\n",
    "(For example if input unit is 97 than total bill amount is Rs.0\n",
    "(For example if input unit is 150 than total bill amount is Rs.750"
   ]
  },
  {
   "cell_type": "markdown",
   "metadata": {},
   "source": [
    "13) Take input of age of 3 people by user and determine oldest and youngest among them."
   ]
  },
  {
   "cell_type": "code",
   "execution_count": 18,
   "metadata": {},
   "outputs": [],
   "source": [
    "#Type your code here"
   ]
  }
 ],
 "metadata": {
  "kernelspec": {
   "display_name": "Python 3",
   "language": "python",
   "name": "python3"
  },
  "language_info": {
   "codemirror_mode": {
    "name": "ipython",
    "version": 3
   },
   "file_extension": ".py",
   "mimetype": "text/x-python",
   "name": "python",
   "nbconvert_exporter": "python",
   "pygments_lexer": "ipython3",
   "version": "3.13.5"
  }
 },
 "nbformat": 4,
 "nbformat_minor": 2
}
