{
 "cells": [
  {
   "cell_type": "markdown",
   "id": "97d5f160",
   "metadata": {},
   "source": [
    "Imputable = Address Change\n",
    "Mutable = Value\n"
   ]
  },
  {
   "cell_type": "markdown",
   "id": "39b1fb19",
   "metadata": {},
   "source": []
  },
  {
   "cell_type": "code",
   "execution_count": 4,
   "id": "688e3bb5",
   "metadata": {},
   "outputs": [
    {
     "name": "stdout",
     "output_type": "stream",
     "text": [
      "1 2 2\n"
     ]
    }
   ],
   "source": [
    "a=1\n",
    "b=2\n",
    "c = b\n",
    "print(a,b,c)"
   ]
  },
  {
   "cell_type": "code",
   "execution_count": 5,
   "id": "4b6d0bbc",
   "metadata": {},
   "outputs": [
    {
     "name": "stdout",
     "output_type": "stream",
     "text": [
      "1 2 3\n"
     ]
    }
   ],
   "source": [
    "c = c +1\n",
    "print(a,b,c)"
   ]
  },
  {
   "cell_type": "markdown",
   "id": "70dee406",
   "metadata": {},
   "source": [
    "Shallow / Deep"
   ]
  },
  {
   "cell_type": "code",
   "execution_count": null,
   "id": "28e1270d",
   "metadata": {},
   "outputs": [
    {
     "name": "stdout",
     "output_type": "stream",
     "text": [
      "['Karachi', ['Copy'], 'Islamabad ']\n"
     ]
    }
   ],
   "source": [
    "city = [\"Karachi\", [\"Lahore\"], \"Islamabad \"]\n",
    "city [1][0] = \"Copy\"\n",
    "print(city)\n",
    "# z.copy or copy.copy shalow copy\n",
    "# import copy , copy.deepcopy\n"
   ]
  },
  {
   "cell_type": "code",
   "execution_count": null,
   "id": "f789b375",
   "metadata": {},
   "outputs": [],
   "source": []
  }
 ],
 "metadata": {
  "kernelspec": {
   "display_name": "Python 3",
   "language": "python",
   "name": "python3"
  },
  "language_info": {
   "codemirror_mode": {
    "name": "ipython",
    "version": 3
   },
   "file_extension": ".py",
   "mimetype": "text/x-python",
   "name": "python",
   "nbconvert_exporter": "python",
   "pygments_lexer": "ipython3",
   "version": "3.13.5"
  }
 },
 "nbformat": 4,
 "nbformat_minor": 5
}
